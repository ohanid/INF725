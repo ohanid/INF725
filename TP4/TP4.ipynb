{
 "cells": [
  {
   "cell_type": "markdown",
   "id": "1fdefaee",
   "metadata": {},
   "source": [
    "# TP n°4 de Bases de Données"
   ]
  },
  {
   "cell_type": "markdown",
   "id": "38a7a8a6",
   "metadata": {},
   "source": [
    "## Qst 1 :"
   ]
  },
  {
   "cell_type": "code",
   "execution_count": 1,
   "id": "596341d9",
   "metadata": {},
   "outputs": [],
   "source": [
    "import sqlite3\n",
    "import pandas as pd"
   ]
  },
  {
   "cell_type": "code",
   "execution_count": 2,
   "id": "35590a70",
   "metadata": {},
   "outputs": [],
   "source": [
    "conn = sqlite3.connect(\"TP_python_sqlite.db\")\n",
    "cur = conn.cursor()"
   ]
  },
  {
   "cell_type": "markdown",
   "id": "bb925a39",
   "metadata": {},
   "source": [
    "## Qst 2 :"
   ]
  },
  {
   "cell_type": "code",
   "execution_count": 3,
   "id": "a84fca93",
   "metadata": {},
   "outputs": [
    {
     "data": {
      "text/plain": [
       "<sqlite3.Cursor at 0x7fc008ce2c70>"
      ]
     },
     "execution_count": 3,
     "metadata": {},
     "output_type": "execute_result"
    }
   ],
   "source": [
    "cur.execute(\"SELECT * FROM MAGASIN;\")"
   ]
  },
  {
   "cell_type": "code",
   "execution_count": 4,
   "id": "9ed1e100",
   "metadata": {
    "scrolled": false
   },
   "outputs": [
    {
     "data": {
      "text/plain": [
       "[('Store No. 1',\n",
       "  '999 Main Street',\n",
       "  'New York',\n",
       "  'New York',\n",
       "  'NY',\n",
       "  'Jones',\n",
       "  'Modern'),\n",
       " ('Store No. 2',\n",
       "  '73 Main Street',\n",
       "  'Chicago',\n",
       "  'Cook',\n",
       "  'IL',\n",
       "  'Smith',\n",
       "  'Original'),\n",
       " ('Store No. 3',\n",
       "  '1 Main Street',\n",
       "  'Atlanta',\n",
       "  'Fulton',\n",
       "  'GA',\n",
       "  'Davis',\n",
       "  'Compact'),\n",
       " ('Store No. 4',\n",
       "  '575 Main Street',\n",
       "  'Los Angeles',\n",
       "  'Los Angeles',\n",
       "  'CA',\n",
       "  'Johnson',\n",
       "  'Modern'),\n",
       " ('Store No. 5',\n",
       "  '123 Main Street',\n",
       "  'San Francisco',\n",
       "  'San Francisco',\n",
       "  'CA',\n",
       "  'Green',\n",
       "  'Original'),\n",
       " ('Store No. 6',\n",
       "  '353 Main Street',\n",
       "  'Philadelphia',\n",
       "  'Philadelphia',\n",
       "  'PA',\n",
       "  'Brown',\n",
       "  'Compact'),\n",
       " ('Store No. 7',\n",
       "  '839 Main Street',\n",
       "  'Pittsburgh',\n",
       "  'Allegheny',\n",
       "  'PA',\n",
       "  'White',\n",
       "  'Modern'),\n",
       " ('Store No. 8',\n",
       "  '651 Main Street',\n",
       "  'New Orleans',\n",
       "  'Orleans',\n",
       "  'LA',\n",
       "  'Williams',\n",
       "  'Original'),\n",
       " ('Store No. 9',\n",
       "  '912 Main Street',\n",
       "  'Seattle',\n",
       "  'King',\n",
       "  'WA',\n",
       "  'Stuber',\n",
       "  'Compact'),\n",
       " ('Store No. 10',\n",
       "  '752 Main Street',\n",
       "  'Dallas',\n",
       "  'Dallas',\n",
       "  'TX',\n",
       "  'Merz',\n",
       "  'Modern'),\n",
       " ('Store No. 11',\n",
       "  '55 Main Street',\n",
       "  'Cincinnati',\n",
       "  'Hamilton',\n",
       "  'OH',\n",
       "  'Erickson',\n",
       "  'Original'),\n",
       " ('Store No. 12',\n",
       "  '546 Main Street',\n",
       "  'Minneapolis',\n",
       "  'Hennepin',\n",
       "  'MN',\n",
       "  'Kalman',\n",
       "  'Compact'),\n",
       " ('Store No. 14',\n",
       "  '968 Main Street',\n",
       "  'Phoenix',\n",
       "  'Maricopa',\n",
       "  'AZ',\n",
       "  'Strehlo',\n",
       "  'Original'),\n",
       " ('Store No. 15',\n",
       "  '228 Main Street',\n",
       "  'Denver',\n",
       "  'Denver',\n",
       "  'CO',\n",
       "  'Ollom',\n",
       "  'Compact'),\n",
       " ('Store No. 16',\n",
       "  '333 Main Street',\n",
       "  'St. Louis',\n",
       "  'St. Louis',\n",
       "  'MO',\n",
       "  'Mantle',\n",
       "  'Modern'),\n",
       " ('Store No. 17',\n",
       "  '764 Main Street',\n",
       "  'Washington',\n",
       "  'DC',\n",
       "  'DC',\n",
       "  'Mays',\n",
       "  'Original'),\n",
       " ('Store No. 18',\n",
       "  '253 Main Street',\n",
       "  'Miami',\n",
       "  'Dade',\n",
       "  'FL',\n",
       "  'Maris',\n",
       "  'Compact'),\n",
       " ('Store No. 19',\n",
       "  '999 Main Street',\n",
       "  'Boston',\n",
       "  'Suffolk',\n",
       "  'MA',\n",
       "  'Ruth',\n",
       "  'Modern'),\n",
       " ('Store No. 20',\n",
       "  '160 Main Street',\n",
       "  'Nashville',\n",
       "  'Davidson',\n",
       "  'TN',\n",
       "  'Cobb',\n",
       "  'Original')]"
      ]
     },
     "execution_count": 4,
     "metadata": {},
     "output_type": "execute_result"
    }
   ],
   "source": [
    "cur.fetchall()"
   ]
  },
  {
   "cell_type": "code",
   "execution_count": 5,
   "id": "608ae87f",
   "metadata": {},
   "outputs": [
    {
     "data": {
      "text/plain": [
       "('Store No. 1',\n",
       " '999 Main Street',\n",
       " 'New York',\n",
       " 'New York',\n",
       " 'NY',\n",
       " 'Jones',\n",
       " 'Modern')"
      ]
     },
     "execution_count": 5,
     "metadata": {},
     "output_type": "execute_result"
    }
   ],
   "source": [
    "cur.execute(\"SELECT * FROM MAGASIN;\")\n",
    "cur.fetchone()"
   ]
  },
  {
   "cell_type": "markdown",
   "id": "35553aef",
   "metadata": {},
   "source": [
    "## Qst 3 "
   ]
  },
  {
   "cell_type": "code",
   "execution_count": 6,
   "id": "36731886",
   "metadata": {},
   "outputs": [
    {
     "data": {
      "text/html": [
       "<div>\n",
       "<style scoped>\n",
       "    .dataframe tbody tr th:only-of-type {\n",
       "        vertical-align: middle;\n",
       "    }\n",
       "\n",
       "    .dataframe tbody tr th {\n",
       "        vertical-align: top;\n",
       "    }\n",
       "\n",
       "    .dataframe thead th {\n",
       "        text-align: right;\n",
       "    }\n",
       "</style>\n",
       "<table border=\"1\" class=\"dataframe\">\n",
       "  <thead>\n",
       "    <tr style=\"text-align: right;\">\n",
       "      <th></th>\n",
       "      <th>NOM</th>\n",
       "      <th>ADRESSE</th>\n",
       "      <th>VILLE</th>\n",
       "      <th>COMTE</th>\n",
       "      <th>ETAT</th>\n",
       "      <th>MANAGER</th>\n",
       "      <th>TYPE</th>\n",
       "    </tr>\n",
       "  </thead>\n",
       "  <tbody>\n",
       "    <tr>\n",
       "      <th>0</th>\n",
       "      <td>Store No. 1</td>\n",
       "      <td>999 Main Street</td>\n",
       "      <td>New York</td>\n",
       "      <td>New York</td>\n",
       "      <td>NY</td>\n",
       "      <td>Jones</td>\n",
       "      <td>Modern</td>\n",
       "    </tr>\n",
       "    <tr>\n",
       "      <th>1</th>\n",
       "      <td>Store No. 2</td>\n",
       "      <td>73 Main Street</td>\n",
       "      <td>Chicago</td>\n",
       "      <td>Cook</td>\n",
       "      <td>IL</td>\n",
       "      <td>Smith</td>\n",
       "      <td>Original</td>\n",
       "    </tr>\n",
       "    <tr>\n",
       "      <th>2</th>\n",
       "      <td>Store No. 3</td>\n",
       "      <td>1 Main Street</td>\n",
       "      <td>Atlanta</td>\n",
       "      <td>Fulton</td>\n",
       "      <td>GA</td>\n",
       "      <td>Davis</td>\n",
       "      <td>Compact</td>\n",
       "    </tr>\n",
       "    <tr>\n",
       "      <th>3</th>\n",
       "      <td>Store No. 4</td>\n",
       "      <td>575 Main Street</td>\n",
       "      <td>Los Angeles</td>\n",
       "      <td>Los Angeles</td>\n",
       "      <td>CA</td>\n",
       "      <td>Johnson</td>\n",
       "      <td>Modern</td>\n",
       "    </tr>\n",
       "    <tr>\n",
       "      <th>4</th>\n",
       "      <td>Store No. 5</td>\n",
       "      <td>123 Main Street</td>\n",
       "      <td>San Francisco</td>\n",
       "      <td>San Francisco</td>\n",
       "      <td>CA</td>\n",
       "      <td>Green</td>\n",
       "      <td>Original</td>\n",
       "    </tr>\n",
       "    <tr>\n",
       "      <th>5</th>\n",
       "      <td>Store No. 6</td>\n",
       "      <td>353 Main Street</td>\n",
       "      <td>Philadelphia</td>\n",
       "      <td>Philadelphia</td>\n",
       "      <td>PA</td>\n",
       "      <td>Brown</td>\n",
       "      <td>Compact</td>\n",
       "    </tr>\n",
       "    <tr>\n",
       "      <th>6</th>\n",
       "      <td>Store No. 7</td>\n",
       "      <td>839 Main Street</td>\n",
       "      <td>Pittsburgh</td>\n",
       "      <td>Allegheny</td>\n",
       "      <td>PA</td>\n",
       "      <td>White</td>\n",
       "      <td>Modern</td>\n",
       "    </tr>\n",
       "    <tr>\n",
       "      <th>7</th>\n",
       "      <td>Store No. 8</td>\n",
       "      <td>651 Main Street</td>\n",
       "      <td>New Orleans</td>\n",
       "      <td>Orleans</td>\n",
       "      <td>LA</td>\n",
       "      <td>Williams</td>\n",
       "      <td>Original</td>\n",
       "    </tr>\n",
       "    <tr>\n",
       "      <th>8</th>\n",
       "      <td>Store No. 9</td>\n",
       "      <td>912 Main Street</td>\n",
       "      <td>Seattle</td>\n",
       "      <td>King</td>\n",
       "      <td>WA</td>\n",
       "      <td>Stuber</td>\n",
       "      <td>Compact</td>\n",
       "    </tr>\n",
       "    <tr>\n",
       "      <th>9</th>\n",
       "      <td>Store No. 10</td>\n",
       "      <td>752 Main Street</td>\n",
       "      <td>Dallas</td>\n",
       "      <td>Dallas</td>\n",
       "      <td>TX</td>\n",
       "      <td>Merz</td>\n",
       "      <td>Modern</td>\n",
       "    </tr>\n",
       "    <tr>\n",
       "      <th>10</th>\n",
       "      <td>Store No. 11</td>\n",
       "      <td>55 Main Street</td>\n",
       "      <td>Cincinnati</td>\n",
       "      <td>Hamilton</td>\n",
       "      <td>OH</td>\n",
       "      <td>Erickson</td>\n",
       "      <td>Original</td>\n",
       "    </tr>\n",
       "    <tr>\n",
       "      <th>11</th>\n",
       "      <td>Store No. 12</td>\n",
       "      <td>546 Main Street</td>\n",
       "      <td>Minneapolis</td>\n",
       "      <td>Hennepin</td>\n",
       "      <td>MN</td>\n",
       "      <td>Kalman</td>\n",
       "      <td>Compact</td>\n",
       "    </tr>\n",
       "    <tr>\n",
       "      <th>12</th>\n",
       "      <td>Store No. 14</td>\n",
       "      <td>968 Main Street</td>\n",
       "      <td>Phoenix</td>\n",
       "      <td>Maricopa</td>\n",
       "      <td>AZ</td>\n",
       "      <td>Strehlo</td>\n",
       "      <td>Original</td>\n",
       "    </tr>\n",
       "    <tr>\n",
       "      <th>13</th>\n",
       "      <td>Store No. 15</td>\n",
       "      <td>228 Main Street</td>\n",
       "      <td>Denver</td>\n",
       "      <td>Denver</td>\n",
       "      <td>CO</td>\n",
       "      <td>Ollom</td>\n",
       "      <td>Compact</td>\n",
       "    </tr>\n",
       "    <tr>\n",
       "      <th>14</th>\n",
       "      <td>Store No. 16</td>\n",
       "      <td>333 Main Street</td>\n",
       "      <td>St. Louis</td>\n",
       "      <td>St. Louis</td>\n",
       "      <td>MO</td>\n",
       "      <td>Mantle</td>\n",
       "      <td>Modern</td>\n",
       "    </tr>\n",
       "    <tr>\n",
       "      <th>15</th>\n",
       "      <td>Store No. 17</td>\n",
       "      <td>764 Main Street</td>\n",
       "      <td>Washington</td>\n",
       "      <td>DC</td>\n",
       "      <td>DC</td>\n",
       "      <td>Mays</td>\n",
       "      <td>Original</td>\n",
       "    </tr>\n",
       "    <tr>\n",
       "      <th>16</th>\n",
       "      <td>Store No. 18</td>\n",
       "      <td>253 Main Street</td>\n",
       "      <td>Miami</td>\n",
       "      <td>Dade</td>\n",
       "      <td>FL</td>\n",
       "      <td>Maris</td>\n",
       "      <td>Compact</td>\n",
       "    </tr>\n",
       "    <tr>\n",
       "      <th>17</th>\n",
       "      <td>Store No. 19</td>\n",
       "      <td>999 Main Street</td>\n",
       "      <td>Boston</td>\n",
       "      <td>Suffolk</td>\n",
       "      <td>MA</td>\n",
       "      <td>Ruth</td>\n",
       "      <td>Modern</td>\n",
       "    </tr>\n",
       "    <tr>\n",
       "      <th>18</th>\n",
       "      <td>Store No. 20</td>\n",
       "      <td>160 Main Street</td>\n",
       "      <td>Nashville</td>\n",
       "      <td>Davidson</td>\n",
       "      <td>TN</td>\n",
       "      <td>Cobb</td>\n",
       "      <td>Original</td>\n",
       "    </tr>\n",
       "  </tbody>\n",
       "</table>\n",
       "</div>"
      ],
      "text/plain": [
       "             NOM          ADRESSE          VILLE          COMTE ETAT  \\\n",
       "0    Store No. 1  999 Main Street       New York       New York   NY   \n",
       "1    Store No. 2   73 Main Street        Chicago           Cook   IL   \n",
       "2    Store No. 3    1 Main Street        Atlanta         Fulton   GA   \n",
       "3    Store No. 4  575 Main Street    Los Angeles    Los Angeles   CA   \n",
       "4    Store No. 5  123 Main Street  San Francisco  San Francisco   CA   \n",
       "5    Store No. 6  353 Main Street   Philadelphia   Philadelphia   PA   \n",
       "6    Store No. 7  839 Main Street     Pittsburgh      Allegheny   PA   \n",
       "7    Store No. 8  651 Main Street    New Orleans        Orleans   LA   \n",
       "8    Store No. 9  912 Main Street        Seattle           King   WA   \n",
       "9   Store No. 10  752 Main Street         Dallas         Dallas   TX   \n",
       "10  Store No. 11   55 Main Street     Cincinnati       Hamilton   OH   \n",
       "11  Store No. 12  546 Main Street    Minneapolis       Hennepin   MN   \n",
       "12  Store No. 14  968 Main Street        Phoenix       Maricopa   AZ   \n",
       "13  Store No. 15  228 Main Street         Denver         Denver   CO   \n",
       "14  Store No. 16  333 Main Street      St. Louis      St. Louis   MO   \n",
       "15  Store No. 17  764 Main Street     Washington             DC   DC   \n",
       "16  Store No. 18  253 Main Street          Miami           Dade   FL   \n",
       "17  Store No. 19  999 Main Street         Boston        Suffolk   MA   \n",
       "18  Store No. 20  160 Main Street      Nashville       Davidson   TN   \n",
       "\n",
       "     MANAGER      TYPE  \n",
       "0      Jones    Modern  \n",
       "1      Smith  Original  \n",
       "2      Davis   Compact  \n",
       "3    Johnson    Modern  \n",
       "4      Green  Original  \n",
       "5      Brown   Compact  \n",
       "6      White    Modern  \n",
       "7   Williams  Original  \n",
       "8     Stuber   Compact  \n",
       "9       Merz    Modern  \n",
       "10  Erickson  Original  \n",
       "11    Kalman   Compact  \n",
       "12   Strehlo  Original  \n",
       "13     Ollom   Compact  \n",
       "14    Mantle    Modern  \n",
       "15      Mays  Original  \n",
       "16     Maris   Compact  \n",
       "17      Ruth    Modern  \n",
       "18      Cobb  Original  "
      ]
     },
     "execution_count": 6,
     "metadata": {},
     "output_type": "execute_result"
    }
   ],
   "source": [
    "df = pd.read_sql_query(\"SELECT * FROM MAGASIN\", conn)\n",
    "df"
   ]
  },
  {
   "cell_type": "markdown",
   "id": "9bc06dda",
   "metadata": {},
   "source": [
    "## Qst 4 "
   ]
  },
  {
   "cell_type": "code",
   "execution_count": 7,
   "id": "4090bc1f",
   "metadata": {},
   "outputs": [
    {
     "data": {
      "text/plain": [
       "<sqlite3.Cursor at 0x7fc008ce2c70>"
      ]
     },
     "execution_count": 7,
     "metadata": {},
     "output_type": "execute_result"
    }
   ],
   "source": [
    "cur.execute(\"CREATE TABLE employe (nom  TEXT , age INTEGER, PRIMARY KEY (nom));\")"
   ]
  },
  {
   "cell_type": "markdown",
   "id": "8a0b4150",
   "metadata": {},
   "source": [
    "## Qst 5"
   ]
  },
  {
   "cell_type": "code",
   "execution_count": 8,
   "id": "1deda48f",
   "metadata": {},
   "outputs": [
    {
     "data": {
      "text/plain": [
       "<sqlite3.Cursor at 0x7fc008ce2c70>"
      ]
     },
     "execution_count": 8,
     "metadata": {},
     "output_type": "execute_result"
    }
   ],
   "source": [
    "cur.execute(\"INSERT INTO employe values ('toto', 25);\")"
   ]
  },
  {
   "cell_type": "markdown",
   "id": "0ca95938",
   "metadata": {},
   "source": [
    "## Qst 6"
   ]
  },
  {
   "cell_type": "code",
   "execution_count": 9,
   "id": "bfd029eb",
   "metadata": {},
   "outputs": [
    {
     "data": {
      "text/plain": [
       "<sqlite3.Cursor at 0x7fc008ce2c70>"
      ]
     },
     "execution_count": 9,
     "metadata": {},
     "output_type": "execute_result"
    }
   ],
   "source": [
    "cur.execute(\"SELECT * FROM employe;\")"
   ]
  },
  {
   "cell_type": "code",
   "execution_count": 10,
   "id": "df72971b",
   "metadata": {},
   "outputs": [
    {
     "data": {
      "text/plain": [
       "[('toto', 25)]"
      ]
     },
     "execution_count": 10,
     "metadata": {},
     "output_type": "execute_result"
    }
   ],
   "source": [
    "cur.fetchall()"
   ]
  },
  {
   "cell_type": "code",
   "execution_count": 11,
   "id": "d56e8890",
   "metadata": {},
   "outputs": [
    {
     "data": {
      "text/html": [
       "<div>\n",
       "<style scoped>\n",
       "    .dataframe tbody tr th:only-of-type {\n",
       "        vertical-align: middle;\n",
       "    }\n",
       "\n",
       "    .dataframe tbody tr th {\n",
       "        vertical-align: top;\n",
       "    }\n",
       "\n",
       "    .dataframe thead th {\n",
       "        text-align: right;\n",
       "    }\n",
       "</style>\n",
       "<table border=\"1\" class=\"dataframe\">\n",
       "  <thead>\n",
       "    <tr style=\"text-align: right;\">\n",
       "      <th></th>\n",
       "      <th>nom</th>\n",
       "      <th>age</th>\n",
       "    </tr>\n",
       "  </thead>\n",
       "  <tbody>\n",
       "    <tr>\n",
       "      <th>0</th>\n",
       "      <td>toto</td>\n",
       "      <td>25</td>\n",
       "    </tr>\n",
       "  </tbody>\n",
       "</table>\n",
       "</div>"
      ],
      "text/plain": [
       "    nom  age\n",
       "0  toto   25"
      ]
     },
     "execution_count": 11,
     "metadata": {},
     "output_type": "execute_result"
    }
   ],
   "source": [
    "df = pd.read_sql_query(\"SELECT * FROM employe\", conn)\n",
    "df"
   ]
  },
  {
   "cell_type": "markdown",
   "id": "4bdaa4e9",
   "metadata": {},
   "source": [
    "## Qst 7"
   ]
  },
  {
   "cell_type": "code",
   "execution_count": 12,
   "id": "6fea8e29",
   "metadata": {},
   "outputs": [],
   "source": [
    "conn.commit()"
   ]
  },
  {
   "cell_type": "markdown",
   "id": "756e1c7d",
   "metadata": {},
   "source": [
    "## Qst 8"
   ]
  },
  {
   "cell_type": "code",
   "execution_count": 13,
   "id": "eac5c82d",
   "metadata": {},
   "outputs": [],
   "source": [
    "def insert_employe():\n",
    "    name = str(input(\"Enter the name of the new employee you wanna insert : \"))\n",
    "    age = int(input(\"Enter the age of the new employee you wanna insert : \"))\n",
    "    new_value = (name, age)\n",
    "    commande = \"INSERT INTO employe values {};\".format(new_value)\n",
    "    cur.execute(commande)"
   ]
  },
  {
   "cell_type": "code",
   "execution_count": 14,
   "id": "b2dadcb7",
   "metadata": {},
   "outputs": [
    {
     "name": "stdout",
     "output_type": "stream",
     "text": [
      "Enter the name of the new employee you wanna insert : Olaya\n",
      "Enter the age of the new employee you wanna insert : 22\n"
     ]
    }
   ],
   "source": [
    "insert_employe()"
   ]
  },
  {
   "cell_type": "markdown",
   "id": "f39b2fde",
   "metadata": {},
   "source": [
    "## Qst 9"
   ]
  },
  {
   "cell_type": "code",
   "execution_count": 15,
   "id": "895cc7dd",
   "metadata": {},
   "outputs": [],
   "source": [
    "def select_magasin():\n",
    "    etat = str(input(\"Enter the name of the state you wanna fetch the magasines in  : \"))\n",
    "    commande = \"SELECT * FROM MAGASIN WHERE ETAT = '{}';\".format(etat)\n",
    "    cur.execute(commande)\n",
    "    return cur.fetchall()"
   ]
  },
  {
   "cell_type": "code",
   "execution_count": 16,
   "id": "f0033687",
   "metadata": {},
   "outputs": [
    {
     "name": "stdout",
     "output_type": "stream",
     "text": [
      "Enter the name of the state you wanna fetch the magasines in  : CA\n"
     ]
    },
    {
     "data": {
      "text/plain": [
       "[('Store No. 4',\n",
       "  '575 Main Street',\n",
       "  'Los Angeles',\n",
       "  'Los Angeles',\n",
       "  'CA',\n",
       "  'Johnson',\n",
       "  'Modern'),\n",
       " ('Store No. 5',\n",
       "  '123 Main Street',\n",
       "  'San Francisco',\n",
       "  'San Francisco',\n",
       "  'CA',\n",
       "  'Green',\n",
       "  'Original')]"
      ]
     },
     "execution_count": 16,
     "metadata": {},
     "output_type": "execute_result"
    }
   ],
   "source": [
    "select_magasin()"
   ]
  }
 ],
 "metadata": {
  "kernelspec": {
   "display_name": "Python 3 (ipykernel)",
   "language": "python",
   "name": "python3"
  },
  "language_info": {
   "codemirror_mode": {
    "name": "ipython",
    "version": 3
   },
   "file_extension": ".py",
   "mimetype": "text/x-python",
   "name": "python",
   "nbconvert_exporter": "python",
   "pygments_lexer": "ipython3",
   "version": "3.9.1"
  }
 },
 "nbformat": 4,
 "nbformat_minor": 5
}
